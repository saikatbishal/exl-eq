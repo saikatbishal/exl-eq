{
 "cells": [
  {
   "cell_type": "code",
   "execution_count": null,
   "metadata": {},
   "outputs": [],
   "source": []
  },
  {
   "cell_type": "code",
   "execution_count": 1,
   "metadata": {},
   "outputs": [],
   "source": [
    "import pandas as pd\n",
    "import numpy as np\n",
    "import seaborn as sns\n",
    "import matplotlib.pyplot as plt"
   ]
  },
  {
   "cell_type": "code",
   "execution_count": 2,
   "metadata": {},
   "outputs": [],
   "source": [
    "%matplotlib inline"
   ]
  },
  {
   "cell_type": "code",
   "execution_count": 3,
   "metadata": {},
   "outputs": [],
   "source": [
    "data=pd.read_csv('EXL_EQ_2020_Test_Datasets data dictionary.csv')"
   ]
  },
  {
   "cell_type": "code",
   "execution_count": 4,
   "metadata": {},
   "outputs": [
    {
     "name": "stdout",
     "output_type": "stream",
     "text": [
      "<class 'pandas.core.frame.DataFrame'>\n",
      "RangeIndex: 300000 entries, 0 to 299999\n",
      "Data columns (total 37 columns):\n",
      "cust_id    300000 non-null int64\n",
      "var1       300000 non-null int64\n",
      "var2       300000 non-null int64\n",
      "var3       300000 non-null int64\n",
      "var4       300000 non-null int64\n",
      "var5       300000 non-null int64\n",
      "var6       300000 non-null int64\n",
      "var7       300000 non-null int64\n",
      "var8       300000 non-null int64\n",
      "var9       300000 non-null int64\n",
      "var10      300000 non-null int64\n",
      "var11      300000 non-null int64\n",
      "var12      300000 non-null int64\n",
      "var13      300000 non-null int64\n",
      "var14      300000 non-null int64\n",
      "var15      300000 non-null int64\n",
      "var16      300000 non-null int64\n",
      "var21      300000 non-null int64\n",
      "var22      300000 non-null int64\n",
      "var23      300000 non-null int64\n",
      "var24      289977 non-null float64\n",
      "var25      300000 non-null int64\n",
      "var26      300000 non-null int64\n",
      "var27      300000 non-null int64\n",
      "var28      300000 non-null int64\n",
      "var29      300000 non-null int64\n",
      "var30      300000 non-null object\n",
      "var31      300000 non-null int64\n",
      "var32      300000 non-null int64\n",
      "var33      300000 non-null object\n",
      "var34      300000 non-null object\n",
      "var35      299998 non-null object\n",
      "var36      295256 non-null object\n",
      "var37      280567 non-null object\n",
      "var38      115413 non-null object\n",
      "var39      299988 non-null object\n",
      "var40      300000 non-null object\n",
      "dtypes: float64(1), int64(27), object(9)\n",
      "memory usage: 84.7+ MB\n"
     ]
    }
   ],
   "source": [
    "data.info()"
   ]
  },
  {
   "cell_type": "code",
   "execution_count": 5,
   "metadata": {},
   "outputs": [
    {
     "data": {
      "text/html": [
       "<div>\n",
       "<style scoped>\n",
       "    .dataframe tbody tr th:only-of-type {\n",
       "        vertical-align: middle;\n",
       "    }\n",
       "\n",
       "    .dataframe tbody tr th {\n",
       "        vertical-align: top;\n",
       "    }\n",
       "\n",
       "    .dataframe thead th {\n",
       "        text-align: right;\n",
       "    }\n",
       "</style>\n",
       "<table border=\"1\" class=\"dataframe\">\n",
       "  <thead>\n",
       "    <tr style=\"text-align: right;\">\n",
       "      <th></th>\n",
       "      <th>cust_id</th>\n",
       "      <th>var1</th>\n",
       "      <th>var2</th>\n",
       "      <th>var3</th>\n",
       "      <th>var4</th>\n",
       "      <th>var5</th>\n",
       "      <th>var6</th>\n",
       "      <th>var7</th>\n",
       "      <th>var8</th>\n",
       "      <th>var9</th>\n",
       "      <th>...</th>\n",
       "      <th>var31</th>\n",
       "      <th>var32</th>\n",
       "      <th>var33</th>\n",
       "      <th>var34</th>\n",
       "      <th>var35</th>\n",
       "      <th>var36</th>\n",
       "      <th>var37</th>\n",
       "      <th>var38</th>\n",
       "      <th>var39</th>\n",
       "      <th>var40</th>\n",
       "    </tr>\n",
       "  </thead>\n",
       "  <tbody>\n",
       "    <tr>\n",
       "      <th>0</th>\n",
       "      <td>400001</td>\n",
       "      <td>2871</td>\n",
       "      <td>0</td>\n",
       "      <td>0</td>\n",
       "      <td>1925</td>\n",
       "      <td>0</td>\n",
       "      <td>7</td>\n",
       "      <td>0</td>\n",
       "      <td>1</td>\n",
       "      <td>238388</td>\n",
       "      <td>...</td>\n",
       "      <td>0</td>\n",
       "      <td>0</td>\n",
       "      <td>other</td>\n",
       "      <td>Pending</td>\n",
       "      <td>Standard</td>\n",
       "      <td>Video/Internet/Voice</td>\n",
       "      <td>N</td>\n",
       "      <td>NaN</td>\n",
       "      <td>Single Housing</td>\n",
       "      <td>N</td>\n",
       "    </tr>\n",
       "    <tr>\n",
       "      <th>1</th>\n",
       "      <td>400002</td>\n",
       "      <td>562</td>\n",
       "      <td>0</td>\n",
       "      <td>0</td>\n",
       "      <td>197</td>\n",
       "      <td>0</td>\n",
       "      <td>3</td>\n",
       "      <td>0</td>\n",
       "      <td>0</td>\n",
       "      <td>136782</td>\n",
       "      <td>...</td>\n",
       "      <td>0</td>\n",
       "      <td>0</td>\n",
       "      <td>other</td>\n",
       "      <td>Inactive</td>\n",
       "      <td>Standard</td>\n",
       "      <td>Internet Only</td>\n",
       "      <td>N</td>\n",
       "      <td>Other</td>\n",
       "      <td>Single Housing</td>\n",
       "      <td>N</td>\n",
       "    </tr>\n",
       "    <tr>\n",
       "      <th>2</th>\n",
       "      <td>400003</td>\n",
       "      <td>4350</td>\n",
       "      <td>0</td>\n",
       "      <td>1</td>\n",
       "      <td>5664</td>\n",
       "      <td>0</td>\n",
       "      <td>8</td>\n",
       "      <td>1</td>\n",
       "      <td>25</td>\n",
       "      <td>336602</td>\n",
       "      <td>...</td>\n",
       "      <td>0</td>\n",
       "      <td>1</td>\n",
       "      <td>other</td>\n",
       "      <td>Inactive</td>\n",
       "      <td>Standard</td>\n",
       "      <td>Video/Internet</td>\n",
       "      <td>N</td>\n",
       "      <td>NaN</td>\n",
       "      <td>Single Housing</td>\n",
       "      <td>N</td>\n",
       "    </tr>\n",
       "    <tr>\n",
       "      <th>3</th>\n",
       "      <td>400004</td>\n",
       "      <td>7580</td>\n",
       "      <td>0</td>\n",
       "      <td>1</td>\n",
       "      <td>6093</td>\n",
       "      <td>0</td>\n",
       "      <td>8</td>\n",
       "      <td>4</td>\n",
       "      <td>31</td>\n",
       "      <td>501694</td>\n",
       "      <td>...</td>\n",
       "      <td>0</td>\n",
       "      <td>1</td>\n",
       "      <td>other</td>\n",
       "      <td>Active</td>\n",
       "      <td>Standard</td>\n",
       "      <td>Internet Only</td>\n",
       "      <td>N</td>\n",
       "      <td>NaN</td>\n",
       "      <td>Single Housing</td>\n",
       "      <td>N</td>\n",
       "    </tr>\n",
       "    <tr>\n",
       "      <th>4</th>\n",
       "      <td>400005</td>\n",
       "      <td>58</td>\n",
       "      <td>0</td>\n",
       "      <td>0</td>\n",
       "      <td>53</td>\n",
       "      <td>0</td>\n",
       "      <td>0</td>\n",
       "      <td>0</td>\n",
       "      <td>0</td>\n",
       "      <td>87465</td>\n",
       "      <td>...</td>\n",
       "      <td>0</td>\n",
       "      <td>0</td>\n",
       "      <td>other</td>\n",
       "      <td>Active</td>\n",
       "      <td>Standard</td>\n",
       "      <td>Video/Internet</td>\n",
       "      <td>N</td>\n",
       "      <td>NaN</td>\n",
       "      <td>Single Housing</td>\n",
       "      <td>N</td>\n",
       "    </tr>\n",
       "    <tr>\n",
       "      <th>5</th>\n",
       "      <td>400006</td>\n",
       "      <td>4202</td>\n",
       "      <td>2</td>\n",
       "      <td>2</td>\n",
       "      <td>29300</td>\n",
       "      <td>5</td>\n",
       "      <td>8</td>\n",
       "      <td>32</td>\n",
       "      <td>60</td>\n",
       "      <td>1259358</td>\n",
       "      <td>...</td>\n",
       "      <td>6</td>\n",
       "      <td>1</td>\n",
       "      <td>other</td>\n",
       "      <td>Pending</td>\n",
       "      <td>Standard</td>\n",
       "      <td>Video/Internet</td>\n",
       "      <td>N</td>\n",
       "      <td>NaN</td>\n",
       "      <td>Single Housing</td>\n",
       "      <td>Y</td>\n",
       "    </tr>\n",
       "    <tr>\n",
       "      <th>6</th>\n",
       "      <td>400007</td>\n",
       "      <td>1234</td>\n",
       "      <td>0</td>\n",
       "      <td>0</td>\n",
       "      <td>8098</td>\n",
       "      <td>0</td>\n",
       "      <td>7</td>\n",
       "      <td>0</td>\n",
       "      <td>28</td>\n",
       "      <td>318965</td>\n",
       "      <td>...</td>\n",
       "      <td>0</td>\n",
       "      <td>1</td>\n",
       "      <td>other</td>\n",
       "      <td>Pending</td>\n",
       "      <td>Standard</td>\n",
       "      <td>Internet Only</td>\n",
       "      <td>N</td>\n",
       "      <td>NaN</td>\n",
       "      <td>Multi Housing</td>\n",
       "      <td>Y</td>\n",
       "    </tr>\n",
       "    <tr>\n",
       "      <th>7</th>\n",
       "      <td>400008</td>\n",
       "      <td>685</td>\n",
       "      <td>0</td>\n",
       "      <td>0</td>\n",
       "      <td>1183</td>\n",
       "      <td>0</td>\n",
       "      <td>4</td>\n",
       "      <td>0</td>\n",
       "      <td>1</td>\n",
       "      <td>170981</td>\n",
       "      <td>...</td>\n",
       "      <td>0</td>\n",
       "      <td>1</td>\n",
       "      <td>other</td>\n",
       "      <td>Active</td>\n",
       "      <td>Standard</td>\n",
       "      <td>Internet Only</td>\n",
       "      <td>N</td>\n",
       "      <td>Self Service</td>\n",
       "      <td>Single Housing</td>\n",
       "      <td>N</td>\n",
       "    </tr>\n",
       "    <tr>\n",
       "      <th>8</th>\n",
       "      <td>400009</td>\n",
       "      <td>311</td>\n",
       "      <td>0</td>\n",
       "      <td>0</td>\n",
       "      <td>445</td>\n",
       "      <td>0</td>\n",
       "      <td>3</td>\n",
       "      <td>0</td>\n",
       "      <td>0</td>\n",
       "      <td>146257</td>\n",
       "      <td>...</td>\n",
       "      <td>0</td>\n",
       "      <td>0</td>\n",
       "      <td>other</td>\n",
       "      <td>Never</td>\n",
       "      <td>Standard</td>\n",
       "      <td>Video/Internet</td>\n",
       "      <td>N</td>\n",
       "      <td>NaN</td>\n",
       "      <td>Single Housing</td>\n",
       "      <td>Y</td>\n",
       "    </tr>\n",
       "    <tr>\n",
       "      <th>9</th>\n",
       "      <td>400010</td>\n",
       "      <td>2273</td>\n",
       "      <td>0</td>\n",
       "      <td>0</td>\n",
       "      <td>1483</td>\n",
       "      <td>0</td>\n",
       "      <td>4</td>\n",
       "      <td>0</td>\n",
       "      <td>1</td>\n",
       "      <td>289118</td>\n",
       "      <td>...</td>\n",
       "      <td>0</td>\n",
       "      <td>0</td>\n",
       "      <td>other</td>\n",
       "      <td>Pending</td>\n",
       "      <td>Standard</td>\n",
       "      <td>Video/Internet</td>\n",
       "      <td>N</td>\n",
       "      <td>Agent</td>\n",
       "      <td>Single Housing</td>\n",
       "      <td>N</td>\n",
       "    </tr>\n",
       "  </tbody>\n",
       "</table>\n",
       "<p>10 rows × 37 columns</p>\n",
       "</div>"
      ],
      "text/plain": [
       "   cust_id  var1  var2  var3   var4  var5  var6  var7  var8     var9  ...  \\\n",
       "0   400001  2871     0     0   1925     0     7     0     1   238388  ...   \n",
       "1   400002   562     0     0    197     0     3     0     0   136782  ...   \n",
       "2   400003  4350     0     1   5664     0     8     1    25   336602  ...   \n",
       "3   400004  7580     0     1   6093     0     8     4    31   501694  ...   \n",
       "4   400005    58     0     0     53     0     0     0     0    87465  ...   \n",
       "5   400006  4202     2     2  29300     5     8    32    60  1259358  ...   \n",
       "6   400007  1234     0     0   8098     0     7     0    28   318965  ...   \n",
       "7   400008   685     0     0   1183     0     4     0     1   170981  ...   \n",
       "8   400009   311     0     0    445     0     3     0     0   146257  ...   \n",
       "9   400010  2273     0     0   1483     0     4     0     1   289118  ...   \n",
       "\n",
       "   var31  var32  var33     var34     var35                 var36  var37  \\\n",
       "0      0      0  other   Pending  Standard  Video/Internet/Voice      N   \n",
       "1      0      0  other  Inactive  Standard         Internet Only      N   \n",
       "2      0      1  other  Inactive  Standard        Video/Internet      N   \n",
       "3      0      1  other    Active  Standard         Internet Only      N   \n",
       "4      0      0  other    Active  Standard        Video/Internet      N   \n",
       "5      6      1  other   Pending  Standard        Video/Internet      N   \n",
       "6      0      1  other   Pending  Standard         Internet Only      N   \n",
       "7      0      1  other    Active  Standard         Internet Only      N   \n",
       "8      0      0  other     Never  Standard        Video/Internet      N   \n",
       "9      0      0  other   Pending  Standard        Video/Internet      N   \n",
       "\n",
       "          var38           var39  var40  \n",
       "0           NaN  Single Housing      N  \n",
       "1         Other  Single Housing      N  \n",
       "2           NaN  Single Housing      N  \n",
       "3           NaN  Single Housing      N  \n",
       "4           NaN  Single Housing      N  \n",
       "5           NaN  Single Housing      Y  \n",
       "6           NaN   Multi Housing      Y  \n",
       "7  Self Service  Single Housing      N  \n",
       "8           NaN  Single Housing      Y  \n",
       "9         Agent  Single Housing      N  \n",
       "\n",
       "[10 rows x 37 columns]"
      ]
     },
     "execution_count": 5,
     "metadata": {},
     "output_type": "execute_result"
    }
   ],
   "source": [
    "data.head(10)"
   ]
  },
  {
   "cell_type": "code",
   "execution_count": 6,
   "metadata": {},
   "outputs": [
    {
     "data": {
      "text/plain": [
       "array(['Single Housing', 'Multi Housing', 'Commercial', 'Exclude mapping',\n",
       "       'Other', nan], dtype=object)"
      ]
     },
     "execution_count": 6,
     "metadata": {},
     "output_type": "execute_result"
    }
   ],
   "source": [
    "data['var39'].unique()"
   ]
  },
  {
   "cell_type": "code",
   "execution_count": 7,
   "metadata": {},
   "outputs": [
    {
     "data": {
      "text/plain": [
       "<matplotlib.axes._subplots.AxesSubplot at 0x20148012b38>"
      ]
     },
     "execution_count": 7,
     "metadata": {},
     "output_type": "execute_result"
    },
    {
     "data": {
      "image/png": "[encoded data removed]",
      "text/plain": [
       "<Figure size 432x288 with 1 Axes>"
      ]
     },
     "metadata": {
      "needs_background": "light"
     },
     "output_type": "display_data"
    }
   ],
   "source": [
    "sns.countplot(data['var39'])"
   ]
  },
  {
   "cell_type": "code",
   "execution_count": 8,
   "metadata": {},
   "outputs": [
    {
     "data": {
      "text/plain": [
       "<matplotlib.axes._subplots.AxesSubplot at 0x20148325710>"
      ]
     },
     "execution_count": 8,
     "metadata": {},
     "output_type": "execute_result"
    },
    {
     "data": {
      "image/png": "[encoded data removed]",
      "text/plain": [
       "<Figure size 432x288 with 1 Axes>"
      ]
     },
     "metadata": {
      "needs_background": "light"
     },
     "output_type": "display_data"
    }
   ],
   "source": [
    "sns.countplot(data['var34'])"
   ]
  },
  {
   "cell_type": "code",
   "execution_count": 9,
   "metadata": {},
   "outputs": [
    {
     "data": {
      "text/plain": [
       "<matplotlib.axes._subplots.AxesSubplot at 0x20148853c88>"
      ]
     },
     "execution_count": 9,
     "metadata": {},
     "output_type": "execute_result"
    },
    {
     "data": {
      "image/png": "[encoded data removed]",
      "text/plain": [
       "<Figure size 432x288 with 1 Axes>"
      ]
     },
     "metadata": {
      "needs_background": "light"
     },
     "output_type": "display_data"
    }
   ],
   "source": [
    "sns.heatmap(data.isnull(),yticklabels=False,cbar=False,cmap='viridis')"
   ]
  },
  {
   "cell_type": "code",
   "execution_count": 10,
   "metadata": {},
   "outputs": [
    {
     "data": {
      "text/plain": [
       "14"
      ]
     },
     "execution_count": 10,
     "metadata": {},
     "output_type": "execute_result"
    }
   ],
   "source": [
    "data['var36'].nunique()"
   ]
  },
  {
   "cell_type": "code",
   "execution_count": 11,
   "metadata": {},
   "outputs": [
    {
     "data": {
      "text/plain": [
       "184587"
      ]
     },
     "execution_count": 11,
     "metadata": {},
     "output_type": "execute_result"
    }
   ],
   "source": [
    "data['var38'].isnull().sum()"
   ]
  },
  {
   "cell_type": "code",
   "execution_count": 12,
   "metadata": {},
   "outputs": [
    {
     "data": {
      "text/plain": [
       "19433"
      ]
     },
     "execution_count": 12,
     "metadata": {},
     "output_type": "execute_result"
    }
   ],
   "source": [
    "data['var37'].isnull().sum()"
   ]
  },
  {
   "cell_type": "code",
   "execution_count": 13,
   "metadata": {},
   "outputs": [
    {
     "data": {
      "text/plain": [
       "array(['other', 'news_channel1', 'entertainment_channel2',\n",
       "       'news_channel2', 'movie_channel1', 'entertainment_channel1'],\n",
       "      dtype=object)"
      ]
     },
     "execution_count": 13,
     "metadata": {},
     "output_type": "execute_result"
    }
   ],
   "source": [
    "data['var33'].unique()"
   ]
  },
  {
   "cell_type": "code",
   "execution_count": 14,
   "metadata": {},
   "outputs": [
    {
     "data": {
      "text/plain": [
       "<seaborn.axisgrid.JointGrid at 0x2014981a7b8>"
      ]
     },
     "execution_count": 14,
     "metadata": {},
     "output_type": "execute_result"
    },
    {
     "data": {
      "image/png": "[encoded data removed]",
      "text/plain": [
       "<Figure size 432x432 with 3 Axes>"
      ]
     },
     "metadata": {
      "needs_background": "light"
     },
     "output_type": "display_data"
    }
   ],
   "source": [
    "sns.jointplot(x='var3',y='var6',data=data,color='red')"
   ]
  },
  {
   "cell_type": "code",
   "execution_count": 15,
   "metadata": {},
   "outputs": [],
   "source": [
    "dat=pd.read_csv('EXL_EQ_2020_Test_Datasets edited 1.csv')"
   ]
  },
  {
   "cell_type": "code",
   "execution_count": 16,
   "metadata": {},
   "outputs": [
    {
     "name": "stdout",
     "output_type": "stream",
     "text": [
      "<class 'pandas.core.frame.DataFrame'>\n",
      "RangeIndex: 38 entries, 0 to 37\n",
      "Data columns (total 2 columns):\n",
      "Feature        38 non-null object\n",
      "Description    38 non-null object\n",
      "dtypes: object(2)\n",
      "memory usage: 688.0+ bytes\n"
     ]
    }
   ],
   "source": [
    "dat.info()"
   ]
  },
  {
   "cell_type": "code",
   "execution_count": 17,
   "metadata": {},
   "outputs": [
    {
     "data": {
      "text/html": [
       "<div>\n",
       "<style scoped>\n",
       "    .dataframe tbody tr th:only-of-type {\n",
       "        vertical-align: middle;\n",
       "    }\n",
       "\n",
       "    .dataframe tbody tr th {\n",
       "        vertical-align: top;\n",
       "    }\n",
       "\n",
       "    .dataframe thead th {\n",
       "        text-align: right;\n",
       "    }\n",
       "</style>\n",
       "<table border=\"1\" class=\"dataframe\">\n",
       "  <thead>\n",
       "    <tr style=\"text-align: right;\">\n",
       "      <th></th>\n",
       "      <th>Feature</th>\n",
       "      <th>Description</th>\n",
       "    </tr>\n",
       "  </thead>\n",
       "  <tbody>\n",
       "    <tr>\n",
       "      <th>count</th>\n",
       "      <td>38</td>\n",
       "      <td>38</td>\n",
       "    </tr>\n",
       "    <tr>\n",
       "      <th>unique</th>\n",
       "      <td>38</td>\n",
       "      <td>38</td>\n",
       "    </tr>\n",
       "    <tr>\n",
       "      <th>top</th>\n",
       "      <td>var1</td>\n",
       "      <td>Likelihood to use credit cards (in %)</td>\n",
       "    </tr>\n",
       "    <tr>\n",
       "      <th>freq</th>\n",
       "      <td>1</td>\n",
       "      <td>1</td>\n",
       "    </tr>\n",
       "  </tbody>\n",
       "</table>\n",
       "</div>"
      ],
      "text/plain": [
       "       Feature                            Description\n",
       "count       38                                     38\n",
       "unique      38                                     38\n",
       "top       var1  Likelihood to use credit cards (in %)\n",
       "freq         1                                      1"
      ]
     },
     "execution_count": 17,
     "metadata": {},
     "output_type": "execute_result"
    }
   ],
   "source": [
    "dat.describe()"
   ]
  },
  {
   "cell_type": "code",
   "execution_count": 18,
   "metadata": {},
   "outputs": [
    {
     "data": {
      "text/html": [
       "<div>\n",
       "<style scoped>\n",
       "    .dataframe tbody tr th:only-of-type {\n",
       "        vertical-align: middle;\n",
       "    }\n",
       "\n",
       "    .dataframe tbody tr th {\n",
       "        vertical-align: top;\n",
       "    }\n",
       "\n",
       "    .dataframe thead th {\n",
       "        text-align: right;\n",
       "    }\n",
       "</style>\n",
       "<table border=\"1\" class=\"dataframe\">\n",
       "  <thead>\n",
       "    <tr style=\"text-align: right;\">\n",
       "      <th></th>\n",
       "      <th>Feature</th>\n",
       "      <th>Description</th>\n",
       "    </tr>\n",
       "  </thead>\n",
       "  <tbody>\n",
       "    <tr>\n",
       "      <th>0</th>\n",
       "      <td>cust_id</td>\n",
       "      <td>Customer Account ID</td>\n",
       "    </tr>\n",
       "    <tr>\n",
       "      <th>1</th>\n",
       "      <td>var1</td>\n",
       "      <td>Account Tenure (Days for which customer has be...</td>\n",
       "    </tr>\n",
       "    <tr>\n",
       "      <th>2</th>\n",
       "      <td>var2</td>\n",
       "      <td>Number of temporary account disconnects in las...</td>\n",
       "    </tr>\n",
       "    <tr>\n",
       "      <th>3</th>\n",
       "      <td>var3</td>\n",
       "      <td>Wireless equipments owned by customer (value c...</td>\n",
       "    </tr>\n",
       "    <tr>\n",
       "      <th>4</th>\n",
       "      <td>var4</td>\n",
       "      <td>Number of times internet connect status = 1 (i...</td>\n",
       "    </tr>\n",
       "    <tr>\n",
       "      <th>5</th>\n",
       "      <td>var5</td>\n",
       "      <td>No. of Voice related tickets (in last one year)</td>\n",
       "    </tr>\n",
       "    <tr>\n",
       "      <th>6</th>\n",
       "      <td>var6 imp</td>\n",
       "      <td>Index of social position based on neighborhood...</td>\n",
       "    </tr>\n",
       "    <tr>\n",
       "      <th>7</th>\n",
       "      <td>var7</td>\n",
       "      <td>Count of emails opened (in last 60 Days) where...</td>\n",
       "    </tr>\n",
       "    <tr>\n",
       "      <th>8</th>\n",
       "      <td>var8</td>\n",
       "      <td>Number of free On-demand video watched by cust...</td>\n",
       "    </tr>\n",
       "    <tr>\n",
       "      <th>9</th>\n",
       "      <td>var9 imp</td>\n",
       "      <td>Median home value in the area of housing unit(...</td>\n",
       "    </tr>\n",
       "    <tr>\n",
       "      <th>10</th>\n",
       "      <td>var10</td>\n",
       "      <td>No. of IVR calls on Billing-related issues (in...</td>\n",
       "    </tr>\n",
       "    <tr>\n",
       "      <th>11</th>\n",
       "      <td>var11</td>\n",
       "      <td>No. of digital equipments owned by customer(Eg...</td>\n",
       "    </tr>\n",
       "    <tr>\n",
       "      <th>12</th>\n",
       "      <td>var12</td>\n",
       "      <td>Total duration (in mins) News_channel1 was wat...</td>\n",
       "    </tr>\n",
       "    <tr>\n",
       "      <th>13</th>\n",
       "      <td>var13</td>\n",
       "      <td>Tenure for which Video product is subscribed</td>\n",
       "    </tr>\n",
       "    <tr>\n",
       "      <th>14</th>\n",
       "      <td>var14</td>\n",
       "      <td>No of digital video recorders (DVR-HD) owned b...</td>\n",
       "    </tr>\n",
       "    <tr>\n",
       "      <th>15</th>\n",
       "      <td>var15</td>\n",
       "      <td>Total tickets raised related to video product</td>\n",
       "    </tr>\n",
       "    <tr>\n",
       "      <th>16</th>\n",
       "      <td>var16</td>\n",
       "      <td>Indicator if customer subscribed for Spanish v...</td>\n",
       "    </tr>\n",
       "    <tr>\n",
       "      <th>17</th>\n",
       "      <td>var21</td>\n",
       "      <td>Percent of trades delinquent (past dues) by 90...</td>\n",
       "    </tr>\n",
       "    <tr>\n",
       "      <th>18</th>\n",
       "      <td>var22</td>\n",
       "      <td>Median family income in the geographical area(...</td>\n",
       "    </tr>\n",
       "    <tr>\n",
       "      <th>19</th>\n",
       "      <td>var23</td>\n",
       "      <td>Likelihood to use credit cards (in %)</td>\n",
       "    </tr>\n",
       "    <tr>\n",
       "      <th>20</th>\n",
       "      <td>var24</td>\n",
       "      <td>Count of emails sent (in last 60 Days) where S...</td>\n",
       "    </tr>\n",
       "    <tr>\n",
       "      <th>21</th>\n",
       "      <td>var25</td>\n",
       "      <td>Indicator for auto-pay enrollment (for monthly...</td>\n",
       "    </tr>\n",
       "    <tr>\n",
       "      <th>22</th>\n",
       "      <td>var26</td>\n",
       "      <td>Total no. of tickets raised in last one year</td>\n",
       "    </tr>\n",
       "    <tr>\n",
       "      <th>23</th>\n",
       "      <td>var27</td>\n",
       "      <td>Monthly recurring charge (bill amount due ever...</td>\n",
       "    </tr>\n",
       "    <tr>\n",
       "      <th>24</th>\n",
       "      <td>var28</td>\n",
       "      <td>Total no. of calls made using Voice product (i...</td>\n",
       "    </tr>\n",
       "    <tr>\n",
       "      <th>25</th>\n",
       "      <td>var29</td>\n",
       "      <td>No. of the unique agents that handled calls fo...</td>\n",
       "    </tr>\n",
       "    <tr>\n",
       "      <th>26</th>\n",
       "      <td>var30</td>\n",
       "      <td>No. of direct mails sent to account holder (in...</td>\n",
       "    </tr>\n",
       "    <tr>\n",
       "      <th>27</th>\n",
       "      <td>var31</td>\n",
       "      <td>No. of sales calls made by customer to buy a p...</td>\n",
       "    </tr>\n",
       "    <tr>\n",
       "      <th>28</th>\n",
       "      <td>var32</td>\n",
       "      <td>Indicator if account has an active offer</td>\n",
       "    </tr>\n",
       "    <tr>\n",
       "      <th>29</th>\n",
       "      <td>var33</td>\n",
       "      <td>Top viewed network/channel (on Video product)</td>\n",
       "    </tr>\n",
       "    <tr>\n",
       "      <th>30</th>\n",
       "      <td>var34</td>\n",
       "      <td>Account status of the customer before subscrib...</td>\n",
       "    </tr>\n",
       "    <tr>\n",
       "      <th>31</th>\n",
       "      <td>var35</td>\n",
       "      <td>Monthly payment mode</td>\n",
       "    </tr>\n",
       "    <tr>\n",
       "      <th>32</th>\n",
       "      <td>var36</td>\n",
       "      <td>Mix of Scherp products that the customer has s...</td>\n",
       "    </tr>\n",
       "    <tr>\n",
       "      <th>33</th>\n",
       "      <td>var37</td>\n",
       "      <td>Indicator if a customer prefers direct mail or...</td>\n",
       "    </tr>\n",
       "    <tr>\n",
       "      <th>34</th>\n",
       "      <td>var38</td>\n",
       "      <td>Team the billing tickets that IVR call redirec...</td>\n",
       "    </tr>\n",
       "    <tr>\n",
       "      <th>35</th>\n",
       "      <td>var39</td>\n",
       "      <td>Dwelling type (type of domicile for primary ac...</td>\n",
       "    </tr>\n",
       "    <tr>\n",
       "      <th>36</th>\n",
       "      <td>var40</td>\n",
       "      <td>Hardcopy statement indicator (For monthly bill)</td>\n",
       "    </tr>\n",
       "    <tr>\n",
       "      <th>37</th>\n",
       "      <td>self_service_platform</td>\n",
       "      <td>Target variable - Platform used by each customer</td>\n",
       "    </tr>\n",
       "  </tbody>\n",
       "</table>\n",
       "</div>"
      ],
      "text/plain": [
       "                  Feature                                        Description\n",
       "0                 cust_id                                Customer Account ID\n",
       "1                    var1  Account Tenure (Days for which customer has be...\n",
       "2                    var2  Number of temporary account disconnects in las...\n",
       "3                    var3  Wireless equipments owned by customer (value c...\n",
       "4                    var4  Number of times internet connect status = 1 (i...\n",
       "5                    var5    No. of Voice related tickets (in last one year)\n",
       "6                var6 imp  Index of social position based on neighborhood...\n",
       "7                    var7  Count of emails opened (in last 60 Days) where...\n",
       "8                    var8  Number of free On-demand video watched by cust...\n",
       "9                var9 imp  Median home value in the area of housing unit(...\n",
       "10                  var10  No. of IVR calls on Billing-related issues (in...\n",
       "11                  var11  No. of digital equipments owned by customer(Eg...\n",
       "12                  var12  Total duration (in mins) News_channel1 was wat...\n",
       "13                  var13       Tenure for which Video product is subscribed\n",
       "14                  var14  No of digital video recorders (DVR-HD) owned b...\n",
       "15                  var15      Total tickets raised related to video product\n",
       "16                  var16  Indicator if customer subscribed for Spanish v...\n",
       "17                  var21  Percent of trades delinquent (past dues) by 90...\n",
       "18                  var22  Median family income in the geographical area(...\n",
       "19                  var23              Likelihood to use credit cards (in %)\n",
       "20                  var24  Count of emails sent (in last 60 Days) where S...\n",
       "21                  var25  Indicator for auto-pay enrollment (for monthly...\n",
       "22                  var26       Total no. of tickets raised in last one year\n",
       "23                  var27  Monthly recurring charge (bill amount due ever...\n",
       "24                  var28  Total no. of calls made using Voice product (i...\n",
       "25                  var29  No. of the unique agents that handled calls fo...\n",
       "26                  var30  No. of direct mails sent to account holder (in...\n",
       "27                  var31  No. of sales calls made by customer to buy a p...\n",
       "28                  var32           Indicator if account has an active offer\n",
       "29                  var33      Top viewed network/channel (on Video product)\n",
       "30                  var34  Account status of the customer before subscrib...\n",
       "31                  var35                               Monthly payment mode\n",
       "32                  var36  Mix of Scherp products that the customer has s...\n",
       "33                  var37  Indicator if a customer prefers direct mail or...\n",
       "34                  var38  Team the billing tickets that IVR call redirec...\n",
       "35                  var39  Dwelling type (type of domicile for primary ac...\n",
       "36                  var40    Hardcopy statement indicator (For monthly bill)\n",
       "37  self_service_platform   Target variable - Platform used by each customer"
      ]
     },
     "execution_count": 18,
     "metadata": {},
     "output_type": "execute_result"
    }
   ],
   "source": [
    "dat"
   ]
  },
  {
   "cell_type": "code",
   "execution_count": 19,
   "metadata": {},
   "outputs": [
    {
     "data": {
      "text/plain": [
       "<matplotlib.axes._subplots.AxesSubplot at 0x2014931e748>"
      ]
     },
     "execution_count": 19,
     "metadata": {},
     "output_type": "execute_result"
    },
    {
     "data": {
      "image/png": "[encoded data removed]",
      "text/plain": [
       "<Figure size 432x288 with 1 Axes>"
      ]
     },
     "metadata": {
      "needs_background": "light"
     },
     "output_type": "display_data"
    }
   ],
   "source": [
    "sns.countplot(data['var35'],hue=data['var6'])"
   ]
  },
  {
   "cell_type": "code",
   "execution_count": null,
   "metadata": {},
   "outputs": [],
   "source": []
  },
  {
   "cell_type": "code",
   "execution_count": 20,
   "metadata": {},
   "outputs": [],
   "source": [
    "new_data = data.dropna(axis = 0, how ='any') "
   ]
  },
  {
   "cell_type": "code",
   "execution_count": 21,
   "metadata": {},
   "outputs": [
    {
     "data": {
      "text/plain": [
       "<matplotlib.axes._subplots.AxesSubplot at 0x201494b6400>"
      ]
     },
     "execution_count": 21,
     "metadata": {},
     "output_type": "execute_result"
    },
    {
     "data": {
      "image/png": "[encoded data removed]",
      "text/plain": [
       "<Figure size 432x288 with 1 Axes>"
      ]
     },
     "metadata": {
      "needs_background": "light"
     },
     "output_type": "display_data"
    }
   ],
   "source": [
    "sns.heatmap(new_data.isnull(),yticklabels=False,cbar=False,cmap='viridis')"
   ]
  },
  {
   "cell_type": "code",
   "execution_count": 22,
   "metadata": {},
   "outputs": [],
   "source": [
    "data38=data.drop('var38',axis=1)"
   ]
  },
  {
   "cell_type": "code",
   "execution_count": 23,
   "metadata": {},
   "outputs": [
    {
     "data": {
      "text/plain": [
       "<matplotlib.axes._subplots.AxesSubplot at 0x2014940c128>"
      ]
     },
     "execution_count": 23,
     "metadata": {},
     "output_type": "execute_result"
    },
    {
     "data": {
      "image/png": "[encoded data removed]",
      "text/plain": [
       "<Figure size 432x288 with 1 Axes>"
      ]
     },
     "metadata": {
      "needs_background": "light"
     },
     "output_type": "display_data"
    }
   ],
   "source": [
    "sns.heatmap(data38.isnull(),yticklabels=False,cbar=False,cmap='viridis')"
   ]
  },
  {
   "cell_type": "code",
   "execution_count": 24,
   "metadata": {},
   "outputs": [
    {
     "data": {
      "text/plain": [
       "1410"
      ]
     },
     "execution_count": 24,
     "metadata": {},
     "output_type": "execute_result"
    }
   ],
   "source": [
    "data['var29'].nunique()"
   ]
  },
  {
   "cell_type": "code",
   "execution_count": null,
   "metadata": {},
   "outputs": [],
   "source": []
  },
  {
   "cell_type": "code",
   "execution_count": 25,
   "metadata": {},
   "outputs": [
    {
     "name": "stdout",
     "output_type": "stream",
     "text": [
      "<class 'pandas.core.frame.DataFrame'>\n",
      "RangeIndex: 300000 entries, 0 to 299999\n",
      "Data columns (total 37 columns):\n",
      "cust_id    300000 non-null int64\n",
      "var1       300000 non-null int64\n",
      "var2       300000 non-null int64\n",
      "var3       300000 non-null int64\n",
      "var4       300000 non-null int64\n",
      "var5       300000 non-null int64\n",
      "var6       300000 non-null int64\n",
      "var7       300000 non-null int64\n",
      "var8       300000 non-null int64\n",
      "var9       300000 non-null int64\n",
      "var10      300000 non-null int64\n",
      "var11      300000 non-null int64\n",
      "var12      300000 non-null int64\n",
      "var13      300000 non-null int64\n",
      "var14      300000 non-null int64\n",
      "var15      300000 non-null int64\n",
      "var16      300000 non-null int64\n",
      "var21      300000 non-null int64\n",
      "var22      300000 non-null int64\n",
      "var23      300000 non-null int64\n",
      "var24      289977 non-null float64\n",
      "var25      300000 non-null int64\n",
      "var26      300000 non-null int64\n",
      "var27      300000 non-null int64\n",
      "var28      300000 non-null int64\n",
      "var29      300000 non-null int64\n",
      "var30      300000 non-null object\n",
      "var31      300000 non-null int64\n",
      "var32      300000 non-null int64\n",
      "var33      300000 non-null object\n",
      "var34      300000 non-null object\n",
      "var35      299998 non-null object\n",
      "var36      295256 non-null object\n",
      "var37      280567 non-null object\n",
      "var38      115413 non-null object\n",
      "var39      299988 non-null object\n",
      "var40      300000 non-null object\n",
      "dtypes: float64(1), int64(27), object(9)\n",
      "memory usage: 84.7+ MB\n"
     ]
    }
   ],
   "source": [
    "data.info()"
   ]
  },
  {
   "cell_type": "code",
   "execution_count": 26,
   "metadata": {},
   "outputs": [
    {
     "data": {
      "text/plain": [
       "<seaborn.matrix.ClusterGrid at 0x201152dfe80>"
      ]
     },
     "execution_count": 26,
     "metadata": {},
     "output_type": "execute_result"
    },
    {
     "data": {
      "image/png": "[encoded data removed]",
      "text/plain": [
       "<Figure size 936x936 with 4 Axes>"
      ]
     },
     "metadata": {
      "needs_background": "light"
     },
     "output_type": "display_data"
    }
   ],
   "source": [
    "sns.clustermap(data.corr(), center=0, cmap=\"vlag\",linewidths=.75, figsize=(13, 13),col_cluster=False)"
   ]
  },
  {
   "cell_type": "code",
   "execution_count": 27,
   "metadata": {},
   "outputs": [
    {
     "data": {
      "text/html": [
       "<div>\n",
       "<style scoped>\n",
       "    .dataframe tbody tr th:only-of-type {\n",
       "        vertical-align: middle;\n",
       "    }\n",
       "\n",
       "    .dataframe tbody tr th {\n",
       "        vertical-align: top;\n",
       "    }\n",
       "\n",
       "    .dataframe thead th {\n",
       "        text-align: right;\n",
       "    }\n",
       "</style>\n",
       "<table border=\"1\" class=\"dataframe\">\n",
       "  <thead>\n",
       "    <tr style=\"text-align: right;\">\n",
       "      <th></th>\n",
       "      <th>Feature</th>\n",
       "      <th>Description</th>\n",
       "    </tr>\n",
       "  </thead>\n",
       "  <tbody>\n",
       "    <tr>\n",
       "      <th>0</th>\n",
       "      <td>cust_id</td>\n",
       "      <td>Customer Account ID</td>\n",
       "    </tr>\n",
       "    <tr>\n",
       "      <th>1</th>\n",
       "      <td>var1</td>\n",
       "      <td>Account Tenure (Days for which customer has be...</td>\n",
       "    </tr>\n",
       "    <tr>\n",
       "      <th>2</th>\n",
       "      <td>var2</td>\n",
       "      <td>Number of temporary account disconnects in las...</td>\n",
       "    </tr>\n",
       "    <tr>\n",
       "      <th>3</th>\n",
       "      <td>var3</td>\n",
       "      <td>Wireless equipments owned by customer (value c...</td>\n",
       "    </tr>\n",
       "    <tr>\n",
       "      <th>4</th>\n",
       "      <td>var4</td>\n",
       "      <td>Number of times internet connect status = 1 (i...</td>\n",
       "    </tr>\n",
       "    <tr>\n",
       "      <th>5</th>\n",
       "      <td>var5</td>\n",
       "      <td>No. of Voice related tickets (in last one year)</td>\n",
       "    </tr>\n",
       "    <tr>\n",
       "      <th>6</th>\n",
       "      <td>var6 imp</td>\n",
       "      <td>Index of social position based on neighborhood...</td>\n",
       "    </tr>\n",
       "    <tr>\n",
       "      <th>7</th>\n",
       "      <td>var7</td>\n",
       "      <td>Count of emails opened (in last 60 Days) where...</td>\n",
       "    </tr>\n",
       "    <tr>\n",
       "      <th>8</th>\n",
       "      <td>var8</td>\n",
       "      <td>Number of free On-demand video watched by cust...</td>\n",
       "    </tr>\n",
       "    <tr>\n",
       "      <th>9</th>\n",
       "      <td>var9 imp</td>\n",
       "      <td>Median home value in the area of housing unit(...</td>\n",
       "    </tr>\n",
       "    <tr>\n",
       "      <th>10</th>\n",
       "      <td>var10</td>\n",
       "      <td>No. of IVR calls on Billing-related issues (in...</td>\n",
       "    </tr>\n",
       "    <tr>\n",
       "      <th>11</th>\n",
       "      <td>var11</td>\n",
       "      <td>No. of digital equipments owned by customer(Eg...</td>\n",
       "    </tr>\n",
       "    <tr>\n",
       "      <th>12</th>\n",
       "      <td>var12</td>\n",
       "      <td>Total duration (in mins) News_channel1 was wat...</td>\n",
       "    </tr>\n",
       "    <tr>\n",
       "      <th>13</th>\n",
       "      <td>var13</td>\n",
       "      <td>Tenure for which Video product is subscribed</td>\n",
       "    </tr>\n",
       "    <tr>\n",
       "      <th>14</th>\n",
       "      <td>var14</td>\n",
       "      <td>No of digital video recorders (DVR-HD) owned b...</td>\n",
       "    </tr>\n",
       "    <tr>\n",
       "      <th>15</th>\n",
       "      <td>var15</td>\n",
       "      <td>Total tickets raised related to video product</td>\n",
       "    </tr>\n",
       "    <tr>\n",
       "      <th>16</th>\n",
       "      <td>var16</td>\n",
       "      <td>Indicator if customer subscribed for Spanish v...</td>\n",
       "    </tr>\n",
       "    <tr>\n",
       "      <th>17</th>\n",
       "      <td>var21</td>\n",
       "      <td>Percent of trades delinquent (past dues) by 90...</td>\n",
       "    </tr>\n",
       "    <tr>\n",
       "      <th>18</th>\n",
       "      <td>var22</td>\n",
       "      <td>Median family income in the geographical area(...</td>\n",
       "    </tr>\n",
       "    <tr>\n",
       "      <th>19</th>\n",
       "      <td>var23</td>\n",
       "      <td>Likelihood to use credit cards (in %)</td>\n",
       "    </tr>\n",
       "    <tr>\n",
       "      <th>20</th>\n",
       "      <td>var24</td>\n",
       "      <td>Count of emails sent (in last 60 Days) where S...</td>\n",
       "    </tr>\n",
       "    <tr>\n",
       "      <th>21</th>\n",
       "      <td>var25</td>\n",
       "      <td>Indicator for auto-pay enrollment (for monthly...</td>\n",
       "    </tr>\n",
       "    <tr>\n",
       "      <th>22</th>\n",
       "      <td>var26</td>\n",
       "      <td>Total no. of tickets raised in last one year</td>\n",
       "    </tr>\n",
       "    <tr>\n",
       "      <th>23</th>\n",
       "      <td>var27</td>\n",
       "      <td>Monthly recurring charge (bill amount due ever...</td>\n",
       "    </tr>\n",
       "    <tr>\n",
       "      <th>24</th>\n",
       "      <td>var28</td>\n",
       "      <td>Total no. of calls made using Voice product (i...</td>\n",
       "    </tr>\n",
       "    <tr>\n",
       "      <th>25</th>\n",
       "      <td>var29</td>\n",
       "      <td>No. of the unique agents that handled calls fo...</td>\n",
       "    </tr>\n",
       "    <tr>\n",
       "      <th>26</th>\n",
       "      <td>var30</td>\n",
       "      <td>No. of direct mails sent to account holder (in...</td>\n",
       "    </tr>\n",
       "    <tr>\n",
       "      <th>27</th>\n",
       "      <td>var31</td>\n",
       "      <td>No. of sales calls made by customer to buy a p...</td>\n",
       "    </tr>\n",
       "    <tr>\n",
       "      <th>28</th>\n",
       "      <td>var32</td>\n",
       "      <td>Indicator if account has an active offer</td>\n",
       "    </tr>\n",
       "    <tr>\n",
       "      <th>29</th>\n",
       "      <td>var33</td>\n",
       "      <td>Top viewed network/channel (on Video product)</td>\n",
       "    </tr>\n",
       "    <tr>\n",
       "      <th>30</th>\n",
       "      <td>var34</td>\n",
       "      <td>Account status of the customer before subscrib...</td>\n",
       "    </tr>\n",
       "    <tr>\n",
       "      <th>31</th>\n",
       "      <td>var35</td>\n",
       "      <td>Monthly payment mode</td>\n",
       "    </tr>\n",
       "    <tr>\n",
       "      <th>32</th>\n",
       "      <td>var36</td>\n",
       "      <td>Mix of Scherp products that the customer has s...</td>\n",
       "    </tr>\n",
       "    <tr>\n",
       "      <th>33</th>\n",
       "      <td>var37</td>\n",
       "      <td>Indicator if a customer prefers direct mail or...</td>\n",
       "    </tr>\n",
       "    <tr>\n",
       "      <th>34</th>\n",
       "      <td>var38</td>\n",
       "      <td>Team the billing tickets that IVR call redirec...</td>\n",
       "    </tr>\n",
       "    <tr>\n",
       "      <th>35</th>\n",
       "      <td>var39</td>\n",
       "      <td>Dwelling type (type of domicile for primary ac...</td>\n",
       "    </tr>\n",
       "    <tr>\n",
       "      <th>36</th>\n",
       "      <td>var40</td>\n",
       "      <td>Hardcopy statement indicator (For monthly bill)</td>\n",
       "    </tr>\n",
       "    <tr>\n",
       "      <th>37</th>\n",
       "      <td>self_service_platform</td>\n",
       "      <td>Target variable - Platform used by each customer</td>\n",
       "    </tr>\n",
       "  </tbody>\n",
       "</table>\n",
       "</div>"
      ],
      "text/plain": [
       "                  Feature                                        Description\n",
       "0                 cust_id                                Customer Account ID\n",
       "1                    var1  Account Tenure (Days for which customer has be...\n",
       "2                    var2  Number of temporary account disconnects in las...\n",
       "3                    var3  Wireless equipments owned by customer (value c...\n",
       "4                    var4  Number of times internet connect status = 1 (i...\n",
       "5                    var5    No. of Voice related tickets (in last one year)\n",
       "6                var6 imp  Index of social position based on neighborhood...\n",
       "7                    var7  Count of emails opened (in last 60 Days) where...\n",
       "8                    var8  Number of free On-demand video watched by cust...\n",
       "9                var9 imp  Median home value in the area of housing unit(...\n",
       "10                  var10  No. of IVR calls on Billing-related issues (in...\n",
       "11                  var11  No. of digital equipments owned by customer(Eg...\n",
       "12                  var12  Total duration (in mins) News_channel1 was wat...\n",
       "13                  var13       Tenure for which Video product is subscribed\n",
       "14                  var14  No of digital video recorders (DVR-HD) owned b...\n",
       "15                  var15      Total tickets raised related to video product\n",
       "16                  var16  Indicator if customer subscribed for Spanish v...\n",
       "17                  var21  Percent of trades delinquent (past dues) by 90...\n",
       "18                  var22  Median family income in the geographical area(...\n",
       "19                  var23              Likelihood to use credit cards (in %)\n",
       "20                  var24  Count of emails sent (in last 60 Days) where S...\n",
       "21                  var25  Indicator for auto-pay enrollment (for monthly...\n",
       "22                  var26       Total no. of tickets raised in last one year\n",
       "23                  var27  Monthly recurring charge (bill amount due ever...\n",
       "24                  var28  Total no. of calls made using Voice product (i...\n",
       "25                  var29  No. of the unique agents that handled calls fo...\n",
       "26                  var30  No. of direct mails sent to account holder (in...\n",
       "27                  var31  No. of sales calls made by customer to buy a p...\n",
       "28                  var32           Indicator if account has an active offer\n",
       "29                  var33      Top viewed network/channel (on Video product)\n",
       "30                  var34  Account status of the customer before subscrib...\n",
       "31                  var35                               Monthly payment mode\n",
       "32                  var36  Mix of Scherp products that the customer has s...\n",
       "33                  var37  Indicator if a customer prefers direct mail or...\n",
       "34                  var38  Team the billing tickets that IVR call redirec...\n",
       "35                  var39  Dwelling type (type of domicile for primary ac...\n",
       "36                  var40    Hardcopy statement indicator (For monthly bill)\n",
       "37  self_service_platform   Target variable - Platform used by each customer"
      ]
     },
     "execution_count": 27,
     "metadata": {},
     "output_type": "execute_result"
    }
   ],
   "source": [
    "dat"
   ]
  },
  {
   "cell_type": "code",
   "execution_count": 28,
   "metadata": {},
   "outputs": [
    {
     "data": {
      "text/plain": [
       "array(['N', nan, 'Y'], dtype=object)"
      ]
     },
     "execution_count": 28,
     "metadata": {},
     "output_type": "execute_result"
    }
   ],
   "source": [
    "data['var37'].unique()"
   ]
  },
  {
   "cell_type": "code",
   "execution_count": 29,
   "metadata": {},
   "outputs": [
    {
     "data": {
      "text/plain": [
       "0           N\n",
       "1           N\n",
       "2           N\n",
       "3           N\n",
       "4           N\n",
       "5           N\n",
       "6           N\n",
       "7           N\n",
       "8           N\n",
       "9           N\n",
       "10          N\n",
       "11          N\n",
       "12        NaN\n",
       "13          N\n",
       "14          N\n",
       "15          N\n",
       "16          N\n",
       "17          N\n",
       "18          N\n",
       "19          N\n",
       "20          N\n",
       "21          N\n",
       "22          N\n",
       "23          N\n",
       "24          N\n",
       "25          N\n",
       "26          N\n",
       "27          N\n",
       "28          N\n",
       "29          N\n",
       "         ... \n",
       "299970      N\n",
       "299971      N\n",
       "299972      N\n",
       "299973    NaN\n",
       "299974      N\n",
       "299975      N\n",
       "299976      N\n",
       "299977      N\n",
       "299978      N\n",
       "299979      N\n",
       "299980      N\n",
       "299981      N\n",
       "299982      N\n",
       "299983      N\n",
       "299984      N\n",
       "299985      N\n",
       "299986      N\n",
       "299987      N\n",
       "299988      N\n",
       "299989    NaN\n",
       "299990      N\n",
       "299991      N\n",
       "299992      N\n",
       "299993      N\n",
       "299994      N\n",
       "299995      Y\n",
       "299996      N\n",
       "299997      N\n",
       "299998      N\n",
       "299999      N\n",
       "Name: var37, Length: 300000, dtype: object"
      ]
     },
     "execution_count": 29,
     "metadata": {},
     "output_type": "execute_result"
    }
   ],
   "source": [
    "data.var37.replace(('yes', 'no'), (1, 0))"
   ]
  },
  {
   "cell_type": "code",
   "execution_count": 30,
   "metadata": {},
   "outputs": [
    {
     "data": {
      "text/html": [
       "<div>\n",
       "<style scoped>\n",
       "    .dataframe tbody tr th:only-of-type {\n",
       "        vertical-align: middle;\n",
       "    }\n",
       "\n",
       "    .dataframe tbody tr th {\n",
       "        vertical-align: top;\n",
       "    }\n",
       "\n",
       "    .dataframe thead th {\n",
       "        text-align: right;\n",
       "    }\n",
       "</style>\n",
       "<table border=\"1\" class=\"dataframe\">\n",
       "  <thead>\n",
       "    <tr style=\"text-align: right;\">\n",
       "      <th></th>\n",
       "      <th>cust_id</th>\n",
       "      <th>var1</th>\n",
       "      <th>var2</th>\n",
       "      <th>var3</th>\n",
       "      <th>var4</th>\n",
       "      <th>var5</th>\n",
       "      <th>var6</th>\n",
       "      <th>var7</th>\n",
       "      <th>var8</th>\n",
       "      <th>var9</th>\n",
       "      <th>...</th>\n",
       "      <th>var31</th>\n",
       "      <th>var32</th>\n",
       "      <th>var33</th>\n",
       "      <th>var34</th>\n",
       "      <th>var35</th>\n",
       "      <th>var36</th>\n",
       "      <th>var37</th>\n",
       "      <th>var38</th>\n",
       "      <th>var39</th>\n",
       "      <th>var40</th>\n",
       "    </tr>\n",
       "  </thead>\n",
       "  <tbody>\n",
       "    <tr>\n",
       "      <th>0</th>\n",
       "      <td>400001</td>\n",
       "      <td>2871</td>\n",
       "      <td>0</td>\n",
       "      <td>0</td>\n",
       "      <td>1925</td>\n",
       "      <td>0</td>\n",
       "      <td>7</td>\n",
       "      <td>0</td>\n",
       "      <td>1</td>\n",
       "      <td>238388</td>\n",
       "      <td>...</td>\n",
       "      <td>0</td>\n",
       "      <td>0</td>\n",
       "      <td>other</td>\n",
       "      <td>Pending</td>\n",
       "      <td>Standard</td>\n",
       "      <td>Video/Internet/Voice</td>\n",
       "      <td>N</td>\n",
       "      <td>NaN</td>\n",
       "      <td>Single Housing</td>\n",
       "      <td>N</td>\n",
       "    </tr>\n",
       "    <tr>\n",
       "      <th>1</th>\n",
       "      <td>400002</td>\n",
       "      <td>562</td>\n",
       "      <td>0</td>\n",
       "      <td>0</td>\n",
       "      <td>197</td>\n",
       "      <td>0</td>\n",
       "      <td>3</td>\n",
       "      <td>0</td>\n",
       "      <td>0</td>\n",
       "      <td>136782</td>\n",
       "      <td>...</td>\n",
       "      <td>0</td>\n",
       "      <td>0</td>\n",
       "      <td>other</td>\n",
       "      <td>Inactive</td>\n",
       "      <td>Standard</td>\n",
       "      <td>Internet Only</td>\n",
       "      <td>N</td>\n",
       "      <td>Other</td>\n",
       "      <td>Single Housing</td>\n",
       "      <td>N</td>\n",
       "    </tr>\n",
       "    <tr>\n",
       "      <th>2</th>\n",
       "      <td>400003</td>\n",
       "      <td>4350</td>\n",
       "      <td>0</td>\n",
       "      <td>1</td>\n",
       "      <td>5664</td>\n",
       "      <td>0</td>\n",
       "      <td>8</td>\n",
       "      <td>1</td>\n",
       "      <td>25</td>\n",
       "      <td>336602</td>\n",
       "      <td>...</td>\n",
       "      <td>0</td>\n",
       "      <td>1</td>\n",
       "      <td>other</td>\n",
       "      <td>Inactive</td>\n",
       "      <td>Standard</td>\n",
       "      <td>Video/Internet</td>\n",
       "      <td>N</td>\n",
       "      <td>NaN</td>\n",
       "      <td>Single Housing</td>\n",
       "      <td>N</td>\n",
       "    </tr>\n",
       "    <tr>\n",
       "      <th>3</th>\n",
       "      <td>400004</td>\n",
       "      <td>7580</td>\n",
       "      <td>0</td>\n",
       "      <td>1</td>\n",
       "      <td>6093</td>\n",
       "      <td>0</td>\n",
       "      <td>8</td>\n",
       "      <td>4</td>\n",
       "      <td>31</td>\n",
       "      <td>501694</td>\n",
       "      <td>...</td>\n",
       "      <td>0</td>\n",
       "      <td>1</td>\n",
       "      <td>other</td>\n",
       "      <td>Active</td>\n",
       "      <td>Standard</td>\n",
       "      <td>Internet Only</td>\n",
       "      <td>N</td>\n",
       "      <td>NaN</td>\n",
       "      <td>Single Housing</td>\n",
       "      <td>N</td>\n",
       "    </tr>\n",
       "    <tr>\n",
       "      <th>4</th>\n",
       "      <td>400005</td>\n",
       "      <td>58</td>\n",
       "      <td>0</td>\n",
       "      <td>0</td>\n",
       "      <td>53</td>\n",
       "      <td>0</td>\n",
       "      <td>0</td>\n",
       "      <td>0</td>\n",
       "      <td>0</td>\n",
       "      <td>87465</td>\n",
       "      <td>...</td>\n",
       "      <td>0</td>\n",
       "      <td>0</td>\n",
       "      <td>other</td>\n",
       "      <td>Active</td>\n",
       "      <td>Standard</td>\n",
       "      <td>Video/Internet</td>\n",
       "      <td>N</td>\n",
       "      <td>NaN</td>\n",
       "      <td>Single Housing</td>\n",
       "      <td>N</td>\n",
       "    </tr>\n",
       "  </tbody>\n",
       "</table>\n",
       "<p>5 rows × 37 columns</p>\n",
       "</div>"
      ],
      "text/plain": [
       "   cust_id  var1  var2  var3  var4  var5  var6  var7  var8    var9  ...  \\\n",
       "0   400001  2871     0     0  1925     0     7     0     1  238388  ...   \n",
       "1   400002   562     0     0   197     0     3     0     0  136782  ...   \n",
       "2   400003  4350     0     1  5664     0     8     1    25  336602  ...   \n",
       "3   400004  7580     0     1  6093     0     8     4    31  501694  ...   \n",
       "4   400005    58     0     0    53     0     0     0     0   87465  ...   \n",
       "\n",
       "   var31  var32  var33     var34     var35                 var36  var37  \\\n",
       "0      0      0  other   Pending  Standard  Video/Internet/Voice      N   \n",
       "1      0      0  other  Inactive  Standard         Internet Only      N   \n",
       "2      0      1  other  Inactive  Standard        Video/Internet      N   \n",
       "3      0      1  other    Active  Standard         Internet Only      N   \n",
       "4      0      0  other    Active  Standard        Video/Internet      N   \n",
       "\n",
       "   var38           var39  var40  \n",
       "0    NaN  Single Housing      N  \n",
       "1  Other  Single Housing      N  \n",
       "2    NaN  Single Housing      N  \n",
       "3    NaN  Single Housing      N  \n",
       "4    NaN  Single Housing      N  \n",
       "\n",
       "[5 rows x 37 columns]"
      ]
     },
     "execution_count": 30,
     "metadata": {},
     "output_type": "execute_result"
    }
   ],
   "source": [
    "data.head()"
   ]
  },
  {
   "cell_type": "code",
   "execution_count": 39,
   "metadata": {},
   "outputs": [],
   "source": []
  },
  {
   "cell_type": "code",
   "execution_count": 51,
   "metadata": {},
   "outputs": [
    {
     "ename": "KeyError",
     "evalue": "\"['var30' 'var33' 'var34' 'var35' 'var36' 'var37' 'var38' 'var39' 'var40'] not found in axis\"",
     "output_type": "error",
     "traceback": [
      "\u001b[1;31m---------------------------------------------------------------------------\u001b[0m",
      "\u001b[1;31mKeyError\u001b[0m                                  Traceback (most recent call last)",
      "\u001b[1;32m<ipython-input-51-79549ccc3eb6>\u001b[0m in \u001b[0;36m<module>\u001b[1;34m\u001b[0m\n\u001b[1;32m----> 1\u001b[1;33m \u001b[0mdat\u001b[0m\u001b[1;33m=\u001b[0m\u001b[0mdata\u001b[0m\u001b[1;33m.\u001b[0m\u001b[0mdrop\u001b[0m\u001b[1;33m(\u001b[0m\u001b[1;33m[\u001b[0m\u001b[1;34m'var30'\u001b[0m\u001b[1;33m,\u001b[0m\u001b[1;34m'var33'\u001b[0m\u001b[1;33m,\u001b[0m\u001b[1;34m'var34'\u001b[0m\u001b[1;33m,\u001b[0m\u001b[1;34m'var35'\u001b[0m\u001b[1;33m,\u001b[0m\u001b[1;34m'var36'\u001b[0m\u001b[1;33m,\u001b[0m\u001b[1;34m'var37'\u001b[0m\u001b[1;33m,\u001b[0m\u001b[1;34m'var38'\u001b[0m\u001b[1;33m,\u001b[0m\u001b[1;34m'var39'\u001b[0m\u001b[1;33m,\u001b[0m\u001b[1;34m'var40'\u001b[0m\u001b[1;33m]\u001b[0m\u001b[1;33m,\u001b[0m\u001b[0maxis\u001b[0m\u001b[1;33m=\u001b[0m\u001b[1;36m0\u001b[0m\u001b[1;33m,\u001b[0m\u001b[0minplace\u001b[0m\u001b[1;33m=\u001b[0m\u001b[1;32mFalse\u001b[0m\u001b[1;33m)\u001b[0m\u001b[1;33m\u001b[0m\u001b[1;33m\u001b[0m\u001b[0m\n\u001b[0m",
      "\u001b[1;32m~\\Anaconda3\\lib\\site-packages\\pandas\\core\\frame.py\u001b[0m in \u001b[0;36mdrop\u001b[1;34m(self, labels, axis, index, columns, level, inplace, errors)\u001b[0m\n\u001b[0;32m   3938\u001b[0m                                            \u001b[0mindex\u001b[0m\u001b[1;33m=\u001b[0m\u001b[0mindex\u001b[0m\u001b[1;33m,\u001b[0m \u001b[0mcolumns\u001b[0m\u001b[1;33m=\u001b[0m\u001b[0mcolumns\u001b[0m\u001b[1;33m,\u001b[0m\u001b[1;33m\u001b[0m\u001b[1;33m\u001b[0m\u001b[0m\n\u001b[0;32m   3939\u001b[0m                                            \u001b[0mlevel\u001b[0m\u001b[1;33m=\u001b[0m\u001b[0mlevel\u001b[0m\u001b[1;33m,\u001b[0m \u001b[0minplace\u001b[0m\u001b[1;33m=\u001b[0m\u001b[0minplace\u001b[0m\u001b[1;33m,\u001b[0m\u001b[1;33m\u001b[0m\u001b[1;33m\u001b[0m\u001b[0m\n\u001b[1;32m-> 3940\u001b[1;33m                                            errors=errors)\n\u001b[0m\u001b[0;32m   3941\u001b[0m \u001b[1;33m\u001b[0m\u001b[0m\n\u001b[0;32m   3942\u001b[0m     @rewrite_axis_style_signature('mapper', [('copy', True),\n",
      "\u001b[1;32m~\\Anaconda3\\lib\\site-packages\\pandas\\core\\generic.py\u001b[0m in \u001b[0;36mdrop\u001b[1;34m(self, labels, axis, index, columns, level, inplace, errors)\u001b[0m\n\u001b[0;32m   3778\u001b[0m         \u001b[1;32mfor\u001b[0m \u001b[0maxis\u001b[0m\u001b[1;33m,\u001b[0m \u001b[0mlabels\u001b[0m \u001b[1;32min\u001b[0m \u001b[0maxes\u001b[0m\u001b[1;33m.\u001b[0m\u001b[0mitems\u001b[0m\u001b[1;33m(\u001b[0m\u001b[1;33m)\u001b[0m\u001b[1;33m:\u001b[0m\u001b[1;33m\u001b[0m\u001b[1;33m\u001b[0m\u001b[0m\n\u001b[0;32m   3779\u001b[0m             \u001b[1;32mif\u001b[0m \u001b[0mlabels\u001b[0m \u001b[1;32mis\u001b[0m \u001b[1;32mnot\u001b[0m \u001b[1;32mNone\u001b[0m\u001b[1;33m:\u001b[0m\u001b[1;33m\u001b[0m\u001b[1;33m\u001b[0m\u001b[0m\n\u001b[1;32m-> 3780\u001b[1;33m                 \u001b[0mobj\u001b[0m \u001b[1;33m=\u001b[0m \u001b[0mobj\u001b[0m\u001b[1;33m.\u001b[0m\u001b[0m_drop_axis\u001b[0m\u001b[1;33m(\u001b[0m\u001b[0mlabels\u001b[0m\u001b[1;33m,\u001b[0m \u001b[0maxis\u001b[0m\u001b[1;33m,\u001b[0m \u001b[0mlevel\u001b[0m\u001b[1;33m=\u001b[0m\u001b[0mlevel\u001b[0m\u001b[1;33m,\u001b[0m \u001b[0merrors\u001b[0m\u001b[1;33m=\u001b[0m\u001b[0merrors\u001b[0m\u001b[1;33m)\u001b[0m\u001b[1;33m\u001b[0m\u001b[1;33m\u001b[0m\u001b[0m\n\u001b[0m\u001b[0;32m   3781\u001b[0m \u001b[1;33m\u001b[0m\u001b[0m\n\u001b[0;32m   3782\u001b[0m         \u001b[1;32mif\u001b[0m \u001b[0minplace\u001b[0m\u001b[1;33m:\u001b[0m\u001b[1;33m\u001b[0m\u001b[1;33m\u001b[0m\u001b[0m\n",
      "\u001b[1;32m~\\Anaconda3\\lib\\site-packages\\pandas\\core\\generic.py\u001b[0m in \u001b[0;36m_drop_axis\u001b[1;34m(self, labels, axis, level, errors)\u001b[0m\n\u001b[0;32m   3810\u001b[0m                 \u001b[0mnew_axis\u001b[0m \u001b[1;33m=\u001b[0m \u001b[0maxis\u001b[0m\u001b[1;33m.\u001b[0m\u001b[0mdrop\u001b[0m\u001b[1;33m(\u001b[0m\u001b[0mlabels\u001b[0m\u001b[1;33m,\u001b[0m \u001b[0mlevel\u001b[0m\u001b[1;33m=\u001b[0m\u001b[0mlevel\u001b[0m\u001b[1;33m,\u001b[0m \u001b[0merrors\u001b[0m\u001b[1;33m=\u001b[0m\u001b[0merrors\u001b[0m\u001b[1;33m)\u001b[0m\u001b[1;33m\u001b[0m\u001b[1;33m\u001b[0m\u001b[0m\n\u001b[0;32m   3811\u001b[0m             \u001b[1;32melse\u001b[0m\u001b[1;33m:\u001b[0m\u001b[1;33m\u001b[0m\u001b[1;33m\u001b[0m\u001b[0m\n\u001b[1;32m-> 3812\u001b[1;33m                 \u001b[0mnew_axis\u001b[0m \u001b[1;33m=\u001b[0m \u001b[0maxis\u001b[0m\u001b[1;33m.\u001b[0m\u001b[0mdrop\u001b[0m\u001b[1;33m(\u001b[0m\u001b[0mlabels\u001b[0m\u001b[1;33m,\u001b[0m \u001b[0merrors\u001b[0m\u001b[1;33m=\u001b[0m\u001b[0merrors\u001b[0m\u001b[1;33m)\u001b[0m\u001b[1;33m\u001b[0m\u001b[1;33m\u001b[0m\u001b[0m\n\u001b[0m\u001b[0;32m   3813\u001b[0m             \u001b[0mresult\u001b[0m \u001b[1;33m=\u001b[0m \u001b[0mself\u001b[0m\u001b[1;33m.\u001b[0m\u001b[0mreindex\u001b[0m\u001b[1;33m(\u001b[0m\u001b[1;33m**\u001b[0m\u001b[1;33m{\u001b[0m\u001b[0maxis_name\u001b[0m\u001b[1;33m:\u001b[0m \u001b[0mnew_axis\u001b[0m\u001b[1;33m}\u001b[0m\u001b[1;33m)\u001b[0m\u001b[1;33m\u001b[0m\u001b[1;33m\u001b[0m\u001b[0m\n\u001b[0;32m   3814\u001b[0m \u001b[1;33m\u001b[0m\u001b[0m\n",
      "\u001b[1;32m~\\Anaconda3\\lib\\site-packages\\pandas\\core\\indexes\\base.py\u001b[0m in \u001b[0;36mdrop\u001b[1;34m(self, labels, errors)\u001b[0m\n\u001b[0;32m   4963\u001b[0m             \u001b[1;32mif\u001b[0m \u001b[0merrors\u001b[0m \u001b[1;33m!=\u001b[0m \u001b[1;34m'ignore'\u001b[0m\u001b[1;33m:\u001b[0m\u001b[1;33m\u001b[0m\u001b[1;33m\u001b[0m\u001b[0m\n\u001b[0;32m   4964\u001b[0m                 raise KeyError(\n\u001b[1;32m-> 4965\u001b[1;33m                     '{} not found in axis'.format(labels[mask]))\n\u001b[0m\u001b[0;32m   4966\u001b[0m             \u001b[0mindexer\u001b[0m \u001b[1;33m=\u001b[0m \u001b[0mindexer\u001b[0m\u001b[1;33m[\u001b[0m\u001b[1;33m~\u001b[0m\u001b[0mmask\u001b[0m\u001b[1;33m]\u001b[0m\u001b[1;33m\u001b[0m\u001b[1;33m\u001b[0m\u001b[0m\n\u001b[0;32m   4967\u001b[0m         \u001b[1;32mreturn\u001b[0m \u001b[0mself\u001b[0m\u001b[1;33m.\u001b[0m\u001b[0mdelete\u001b[0m\u001b[1;33m(\u001b[0m\u001b[0mindexer\u001b[0m\u001b[1;33m)\u001b[0m\u001b[1;33m\u001b[0m\u001b[1;33m\u001b[0m\u001b[0m\n",
      "\u001b[1;31mKeyError\u001b[0m: \"['var30' 'var33' 'var34' 'var35' 'var36' 'var37' 'var38' 'var39' 'var40'] not found in axis\""
     ]
    }
   ],
   "source": []
  },
  {
   "cell_type": "code",
   "execution_count": 47,
   "metadata": {},
   "outputs": [
    {
     "ename": "AttributeError",
     "evalue": "'NoneType' object has no attribute 'head'",
     "output_type": "error",
     "traceback": [
      "\u001b[1;31m---------------------------------------------------------------------------\u001b[0m",
      "\u001b[1;31mAttributeError\u001b[0m                            Traceback (most recent call last)",
      "\u001b[1;32m<ipython-input-47-596692b7834e>\u001b[0m in \u001b[0;36m<module>\u001b[1;34m\u001b[0m\n\u001b[1;32m----> 1\u001b[1;33m \u001b[0mdatq\u001b[0m\u001b[1;33m.\u001b[0m\u001b[0mhead\u001b[0m\u001b[1;33m(\u001b[0m\u001b[1;33m)\u001b[0m\u001b[1;33m\u001b[0m\u001b[1;33m\u001b[0m\u001b[0m\n\u001b[0m",
      "\u001b[1;31mAttributeError\u001b[0m: 'NoneType' object has no attribute 'head'"
     ]
    }
   ],
   "source": [
    "datq.head()"
   ]
  },
  {
   "cell_type": "code",
   "execution_count": null,
   "metadata": {},
   "outputs": [],
   "source": []
  },
  {
   "cell_type": "code",
   "execution_count": null,
   "metadata": {},
   "outputs": [],
   "source": []
  }
 ],
 "metadata": {
  "kernelspec": {
   "display_name": "Python 3",
   "language": "python",
   "name": "python3"
  },
  "language_info": {
   "codemirror_mode": {
    "name": "ipython",
    "version": 3
   },
   "file_extension": ".py",
   "mimetype": "text/x-python",
   "name": "python",
   "nbconvert_exporter": "python",
   "pygments_lexer": "ipython3",
   "version": "3.7.3"
  }
 },
 "nbformat": 4,
 "nbformat_minor": 2
}
